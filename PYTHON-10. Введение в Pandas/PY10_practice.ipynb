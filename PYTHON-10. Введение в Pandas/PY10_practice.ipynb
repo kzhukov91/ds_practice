{
 "cells": [
  {
   "cell_type": "code",
   "execution_count": 3,
   "metadata": {},
   "outputs": [
    {
     "name": "stdout",
     "output_type": "stream",
     "text": [
      "chlorhexidine    15\n",
      "cyntomycin       18\n",
      "afobazol          7\n",
      "Name: Series medications, dtype: int64\n",
      "37.5\n"
     ]
    }
   ],
   "source": [
    "import pandas as pd\n",
    "names = ['chlorhexidine', 'cyntomycin', 'afobazol']\n",
    "counts = [15, 18, 7]\n",
    "\n",
    "def create_medications(names, counts):\n",
    "    medications = pd.Series(\n",
    "        data = counts,\n",
    "        index = names,\n",
    "        name = 'Series medications'\n",
    "    )\n",
    "    return medications\n",
    "\n",
    "def get_percent(medications, name):\n",
    "    percent = medications.loc[name]/sum(medications.iloc[:])*100\n",
    "    return percent\n",
    "\n",
    "medications = create_medications(names, counts)\n",
    "print(medications)\n",
    "\n",
    "print(get_percent(medications, \"chlorhexidine\"))"
   ]
  },
  {
   "cell_type": "code",
   "execution_count": 4,
   "metadata": {},
   "outputs": [
    {
     "name": "stdout",
     "output_type": "stream",
     "text": [
      "      Income  Expenses\n",
      "2017     612       136\n",
      "2018     516       163\n",
      "2019     329       250\n",
      "2020     158       361\n",
      "353\n"
     ]
    }
   ],
   "source": [
    "import pandas as pd\n",
    "income = [612, 516, 329, 158]\n",
    "expenses = [136, 163, 250, 361]\n",
    "years = [2017, 2018, 2019, 2020]\n",
    "\n",
    "def create_companyDF(income, expenses, years):\n",
    "    df = pd.DataFrame({\n",
    "    'Income': income,\n",
    "    'Expenses': expenses\n",
    "    })\n",
    "    df.index = years\n",
    "    return df\n",
    "\n",
    "def get_profit(df, year):\n",
    "    if year in df.index:\n",
    "        profit = df.loc[year, 'Income'] - df.loc[year, 'Expenses']\n",
    "    else:\n",
    "        profit = None\n",
    "    return profit\n",
    "\n",
    "print(create_companyDF(income, expenses, years))\n",
    "df = create_companyDF(income, expenses, years)\n",
    "print(get_profit(df, 2018))"
   ]
  }
 ],
 "metadata": {
  "kernelspec": {
   "display_name": "Python 3",
   "language": "python",
   "name": "python3"
  },
  "language_info": {
   "codemirror_mode": {
    "name": "ipython",
    "version": 3
   },
   "file_extension": ".py",
   "mimetype": "text/x-python",
   "name": "python",
   "nbconvert_exporter": "python",
   "pygments_lexer": "ipython3",
   "version": "3.12.3"
  }
 },
 "nbformat": 4,
 "nbformat_minor": 2
}
