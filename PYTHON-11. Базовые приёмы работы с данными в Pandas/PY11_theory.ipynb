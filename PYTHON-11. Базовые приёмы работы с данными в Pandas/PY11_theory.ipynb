{
 "cells": [
  {
   "cell_type": "code",
   "execution_count": 4,
   "metadata": {},
   "outputs": [],
   "source": [
    "import pandas as pd"
   ]
  },
  {
   "cell_type": "code",
   "execution_count": 5,
   "metadata": {},
   "outputs": [
    {
     "data": {
      "text/html": [
       "<div>\n",
       "<style scoped>\n",
       "    .dataframe tbody tr th:only-of-type {\n",
       "        vertical-align: middle;\n",
       "    }\n",
       "\n",
       "    .dataframe tbody tr th {\n",
       "        vertical-align: top;\n",
       "    }\n",
       "\n",
       "    .dataframe thead th {\n",
       "        text-align: right;\n",
       "    }\n",
       "</style>\n",
       "<table border=\"1\" class=\"dataframe\">\n",
       "  <thead>\n",
       "    <tr style=\"text-align: right;\">\n",
       "      <th></th>\n",
       "      <th>index</th>\n",
       "      <th>Suburb</th>\n",
       "      <th>Address</th>\n",
       "      <th>Rooms</th>\n",
       "      <th>Type</th>\n",
       "      <th>Price</th>\n",
       "      <th>Method</th>\n",
       "      <th>SellerG</th>\n",
       "      <th>Date</th>\n",
       "      <th>Distance</th>\n",
       "      <th>...</th>\n",
       "      <th>Car</th>\n",
       "      <th>Landsize</th>\n",
       "      <th>BuildingArea</th>\n",
       "      <th>YearBuilt</th>\n",
       "      <th>CouncilArea</th>\n",
       "      <th>Lattitude</th>\n",
       "      <th>Longtitude</th>\n",
       "      <th>Regionname</th>\n",
       "      <th>Propertycount</th>\n",
       "      <th>Coordinates</th>\n",
       "    </tr>\n",
       "  </thead>\n",
       "  <tbody>\n",
       "    <tr>\n",
       "      <th>0</th>\n",
       "      <td>0</td>\n",
       "      <td>Abbotsford</td>\n",
       "      <td>85 Turner St</td>\n",
       "      <td>2</td>\n",
       "      <td>h</td>\n",
       "      <td>1480000.0</td>\n",
       "      <td>S</td>\n",
       "      <td>Biggin</td>\n",
       "      <td>3/12/2016</td>\n",
       "      <td>2.5</td>\n",
       "      <td>...</td>\n",
       "      <td>1</td>\n",
       "      <td>202.0</td>\n",
       "      <td>126.0</td>\n",
       "      <td>1970</td>\n",
       "      <td>Yarra</td>\n",
       "      <td>-37.7996</td>\n",
       "      <td>144.9984</td>\n",
       "      <td>Northern Metropolitan</td>\n",
       "      <td>4019</td>\n",
       "      <td>-37.7996, 144.9984</td>\n",
       "    </tr>\n",
       "    <tr>\n",
       "      <th>1</th>\n",
       "      <td>1</td>\n",
       "      <td>Abbotsford</td>\n",
       "      <td>25 Bloomburg St</td>\n",
       "      <td>2</td>\n",
       "      <td>h</td>\n",
       "      <td>1035000.0</td>\n",
       "      <td>S</td>\n",
       "      <td>Biggin</td>\n",
       "      <td>4/02/2016</td>\n",
       "      <td>2.5</td>\n",
       "      <td>...</td>\n",
       "      <td>0</td>\n",
       "      <td>156.0</td>\n",
       "      <td>79.0</td>\n",
       "      <td>1900</td>\n",
       "      <td>Yarra</td>\n",
       "      <td>-37.8079</td>\n",
       "      <td>144.9934</td>\n",
       "      <td>Northern Metropolitan</td>\n",
       "      <td>4019</td>\n",
       "      <td>-37.8079, 144.9934</td>\n",
       "    </tr>\n",
       "    <tr>\n",
       "      <th>2</th>\n",
       "      <td>2</td>\n",
       "      <td>Abbotsford</td>\n",
       "      <td>5 Charles St</td>\n",
       "      <td>3</td>\n",
       "      <td>h</td>\n",
       "      <td>1465000.0</td>\n",
       "      <td>SP</td>\n",
       "      <td>Biggin</td>\n",
       "      <td>4/03/2017</td>\n",
       "      <td>2.5</td>\n",
       "      <td>...</td>\n",
       "      <td>0</td>\n",
       "      <td>134.0</td>\n",
       "      <td>150.0</td>\n",
       "      <td>1900</td>\n",
       "      <td>Yarra</td>\n",
       "      <td>-37.8093</td>\n",
       "      <td>144.9944</td>\n",
       "      <td>Northern Metropolitan</td>\n",
       "      <td>4019</td>\n",
       "      <td>-37.8093, 144.9944</td>\n",
       "    </tr>\n",
       "    <tr>\n",
       "      <th>3</th>\n",
       "      <td>3</td>\n",
       "      <td>Abbotsford</td>\n",
       "      <td>40 Federation La</td>\n",
       "      <td>3</td>\n",
       "      <td>h</td>\n",
       "      <td>850000.0</td>\n",
       "      <td>PI</td>\n",
       "      <td>Biggin</td>\n",
       "      <td>4/03/2017</td>\n",
       "      <td>2.5</td>\n",
       "      <td>...</td>\n",
       "      <td>1</td>\n",
       "      <td>94.0</td>\n",
       "      <td>126.0</td>\n",
       "      <td>1970</td>\n",
       "      <td>Yarra</td>\n",
       "      <td>-37.7969</td>\n",
       "      <td>144.9969</td>\n",
       "      <td>Northern Metropolitan</td>\n",
       "      <td>4019</td>\n",
       "      <td>-37.7969, 144.9969</td>\n",
       "    </tr>\n",
       "    <tr>\n",
       "      <th>4</th>\n",
       "      <td>4</td>\n",
       "      <td>Abbotsford</td>\n",
       "      <td>55a Park St</td>\n",
       "      <td>4</td>\n",
       "      <td>h</td>\n",
       "      <td>1600000.0</td>\n",
       "      <td>VB</td>\n",
       "      <td>Nelson</td>\n",
       "      <td>4/06/2016</td>\n",
       "      <td>2.5</td>\n",
       "      <td>...</td>\n",
       "      <td>2</td>\n",
       "      <td>120.0</td>\n",
       "      <td>142.0</td>\n",
       "      <td>2014</td>\n",
       "      <td>Yarra</td>\n",
       "      <td>-37.8072</td>\n",
       "      <td>144.9941</td>\n",
       "      <td>Northern Metropolitan</td>\n",
       "      <td>4019</td>\n",
       "      <td>-37.8072, 144.9941</td>\n",
       "    </tr>\n",
       "  </tbody>\n",
       "</table>\n",
       "<p>5 rows × 23 columns</p>\n",
       "</div>"
      ],
      "text/plain": [
       "   index      Suburb           Address  Rooms Type      Price Method SellerG  \\\n",
       "0      0  Abbotsford      85 Turner St      2    h  1480000.0      S  Biggin   \n",
       "1      1  Abbotsford   25 Bloomburg St      2    h  1035000.0      S  Biggin   \n",
       "2      2  Abbotsford      5 Charles St      3    h  1465000.0     SP  Biggin   \n",
       "3      3  Abbotsford  40 Federation La      3    h   850000.0     PI  Biggin   \n",
       "4      4  Abbotsford       55a Park St      4    h  1600000.0     VB  Nelson   \n",
       "\n",
       "        Date  Distance  ...  Car  Landsize  BuildingArea  YearBuilt  \\\n",
       "0  3/12/2016       2.5  ...    1     202.0         126.0       1970   \n",
       "1  4/02/2016       2.5  ...    0     156.0          79.0       1900   \n",
       "2  4/03/2017       2.5  ...    0     134.0         150.0       1900   \n",
       "3  4/03/2017       2.5  ...    1      94.0         126.0       1970   \n",
       "4  4/06/2016       2.5  ...    2     120.0         142.0       2014   \n",
       "\n",
       "   CouncilArea  Lattitude  Longtitude             Regionname  Propertycount  \\\n",
       "0        Yarra   -37.7996    144.9984  Northern Metropolitan           4019   \n",
       "1        Yarra   -37.8079    144.9934  Northern Metropolitan           4019   \n",
       "2        Yarra   -37.8093    144.9944  Northern Metropolitan           4019   \n",
       "3        Yarra   -37.7969    144.9969  Northern Metropolitan           4019   \n",
       "4        Yarra   -37.8072    144.9941  Northern Metropolitan           4019   \n",
       "\n",
       "          Coordinates  \n",
       "0  -37.7996, 144.9984  \n",
       "1  -37.8079, 144.9934  \n",
       "2  -37.8093, 144.9944  \n",
       "3  -37.7969, 144.9969  \n",
       "4  -37.8072, 144.9941  \n",
       "\n",
       "[5 rows x 23 columns]"
      ]
     },
     "execution_count": 5,
     "metadata": {},
     "output_type": "execute_result"
    }
   ],
   "source": [
    "melb_data = pd.read_csv('data/melb_data_ps.csv', sep=',')\n",
    "melb_data.head()"
   ]
  },
  {
   "cell_type": "code",
   "execution_count": 6,
   "metadata": {},
   "outputs": [
    {
     "data": {
      "text/html": [
       "<div>\n",
       "<style scoped>\n",
       "    .dataframe tbody tr th:only-of-type {\n",
       "        vertical-align: middle;\n",
       "    }\n",
       "\n",
       "    .dataframe tbody tr th {\n",
       "        vertical-align: top;\n",
       "    }\n",
       "\n",
       "    .dataframe thead th {\n",
       "        text-align: right;\n",
       "    }\n",
       "</style>\n",
       "<table border=\"1\" class=\"dataframe\">\n",
       "  <thead>\n",
       "    <tr style=\"text-align: right;\">\n",
       "      <th></th>\n",
       "      <th>index</th>\n",
       "      <th>Suburb</th>\n",
       "      <th>Address</th>\n",
       "      <th>Rooms</th>\n",
       "      <th>Type</th>\n",
       "      <th>Price</th>\n",
       "      <th>Method</th>\n",
       "      <th>SellerG</th>\n",
       "      <th>Date</th>\n",
       "      <th>Distance</th>\n",
       "      <th>...</th>\n",
       "      <th>Car</th>\n",
       "      <th>Landsize</th>\n",
       "      <th>BuildingArea</th>\n",
       "      <th>YearBuilt</th>\n",
       "      <th>CouncilArea</th>\n",
       "      <th>Lattitude</th>\n",
       "      <th>Longtitude</th>\n",
       "      <th>Regionname</th>\n",
       "      <th>Propertycount</th>\n",
       "      <th>Coordinates</th>\n",
       "    </tr>\n",
       "  </thead>\n",
       "  <tbody>\n",
       "    <tr>\n",
       "      <th>0</th>\n",
       "      <td>0</td>\n",
       "      <td>Abbotsford</td>\n",
       "      <td>85 Turner St</td>\n",
       "      <td>2</td>\n",
       "      <td>h</td>\n",
       "      <td>1480000.0</td>\n",
       "      <td>S</td>\n",
       "      <td>Biggin</td>\n",
       "      <td>3/12/2016</td>\n",
       "      <td>2.5</td>\n",
       "      <td>...</td>\n",
       "      <td>1</td>\n",
       "      <td>202.0</td>\n",
       "      <td>126.0</td>\n",
       "      <td>1970</td>\n",
       "      <td>Yarra</td>\n",
       "      <td>-37.7996</td>\n",
       "      <td>144.9984</td>\n",
       "      <td>Northern Metropolitan</td>\n",
       "      <td>4019</td>\n",
       "      <td>-37.7996, 144.9984</td>\n",
       "    </tr>\n",
       "    <tr>\n",
       "      <th>1</th>\n",
       "      <td>1</td>\n",
       "      <td>Abbotsford</td>\n",
       "      <td>25 Bloomburg St</td>\n",
       "      <td>2</td>\n",
       "      <td>h</td>\n",
       "      <td>1035000.0</td>\n",
       "      <td>S</td>\n",
       "      <td>Biggin</td>\n",
       "      <td>4/02/2016</td>\n",
       "      <td>2.5</td>\n",
       "      <td>...</td>\n",
       "      <td>0</td>\n",
       "      <td>156.0</td>\n",
       "      <td>79.0</td>\n",
       "      <td>1900</td>\n",
       "      <td>Yarra</td>\n",
       "      <td>-37.8079</td>\n",
       "      <td>144.9934</td>\n",
       "      <td>Northern Metropolitan</td>\n",
       "      <td>4019</td>\n",
       "      <td>-37.8079, 144.9934</td>\n",
       "    </tr>\n",
       "    <tr>\n",
       "      <th>2</th>\n",
       "      <td>2</td>\n",
       "      <td>Abbotsford</td>\n",
       "      <td>5 Charles St</td>\n",
       "      <td>3</td>\n",
       "      <td>h</td>\n",
       "      <td>1465000.0</td>\n",
       "      <td>SP</td>\n",
       "      <td>Biggin</td>\n",
       "      <td>4/03/2017</td>\n",
       "      <td>2.5</td>\n",
       "      <td>...</td>\n",
       "      <td>0</td>\n",
       "      <td>134.0</td>\n",
       "      <td>150.0</td>\n",
       "      <td>1900</td>\n",
       "      <td>Yarra</td>\n",
       "      <td>-37.8093</td>\n",
       "      <td>144.9944</td>\n",
       "      <td>Northern Metropolitan</td>\n",
       "      <td>4019</td>\n",
       "      <td>-37.8093, 144.9944</td>\n",
       "    </tr>\n",
       "    <tr>\n",
       "      <th>3</th>\n",
       "      <td>3</td>\n",
       "      <td>Abbotsford</td>\n",
       "      <td>40 Federation La</td>\n",
       "      <td>3</td>\n",
       "      <td>h</td>\n",
       "      <td>850000.0</td>\n",
       "      <td>PI</td>\n",
       "      <td>Biggin</td>\n",
       "      <td>4/03/2017</td>\n",
       "      <td>2.5</td>\n",
       "      <td>...</td>\n",
       "      <td>1</td>\n",
       "      <td>94.0</td>\n",
       "      <td>126.0</td>\n",
       "      <td>1970</td>\n",
       "      <td>Yarra</td>\n",
       "      <td>-37.7969</td>\n",
       "      <td>144.9969</td>\n",
       "      <td>Northern Metropolitan</td>\n",
       "      <td>4019</td>\n",
       "      <td>-37.7969, 144.9969</td>\n",
       "    </tr>\n",
       "    <tr>\n",
       "      <th>4</th>\n",
       "      <td>4</td>\n",
       "      <td>Abbotsford</td>\n",
       "      <td>55a Park St</td>\n",
       "      <td>4</td>\n",
       "      <td>h</td>\n",
       "      <td>1600000.0</td>\n",
       "      <td>VB</td>\n",
       "      <td>Nelson</td>\n",
       "      <td>4/06/2016</td>\n",
       "      <td>2.5</td>\n",
       "      <td>...</td>\n",
       "      <td>2</td>\n",
       "      <td>120.0</td>\n",
       "      <td>142.0</td>\n",
       "      <td>2014</td>\n",
       "      <td>Yarra</td>\n",
       "      <td>-37.8072</td>\n",
       "      <td>144.9941</td>\n",
       "      <td>Northern Metropolitan</td>\n",
       "      <td>4019</td>\n",
       "      <td>-37.8072, 144.9941</td>\n",
       "    </tr>\n",
       "  </tbody>\n",
       "</table>\n",
       "<p>5 rows × 23 columns</p>\n",
       "</div>"
      ],
      "text/plain": [
       "   index      Suburb           Address  Rooms Type      Price Method SellerG  \\\n",
       "0      0  Abbotsford      85 Turner St      2    h  1480000.0      S  Biggin   \n",
       "1      1  Abbotsford   25 Bloomburg St      2    h  1035000.0      S  Biggin   \n",
       "2      2  Abbotsford      5 Charles St      3    h  1465000.0     SP  Biggin   \n",
       "3      3  Abbotsford  40 Federation La      3    h   850000.0     PI  Biggin   \n",
       "4      4  Abbotsford       55a Park St      4    h  1600000.0     VB  Nelson   \n",
       "\n",
       "        Date  Distance  ...  Car  Landsize  BuildingArea  YearBuilt  \\\n",
       "0  3/12/2016       2.5  ...    1     202.0         126.0       1970   \n",
       "1  4/02/2016       2.5  ...    0     156.0          79.0       1900   \n",
       "2  4/03/2017       2.5  ...    0     134.0         150.0       1900   \n",
       "3  4/03/2017       2.5  ...    1      94.0         126.0       1970   \n",
       "4  4/06/2016       2.5  ...    2     120.0         142.0       2014   \n",
       "\n",
       "   CouncilArea  Lattitude  Longtitude             Regionname  Propertycount  \\\n",
       "0        Yarra   -37.7996    144.9984  Northern Metropolitan           4019   \n",
       "1        Yarra   -37.8079    144.9934  Northern Metropolitan           4019   \n",
       "2        Yarra   -37.8093    144.9944  Northern Metropolitan           4019   \n",
       "3        Yarra   -37.7969    144.9969  Northern Metropolitan           4019   \n",
       "4        Yarra   -37.8072    144.9941  Northern Metropolitan           4019   \n",
       "\n",
       "          Coordinates  \n",
       "0  -37.7996, 144.9984  \n",
       "1  -37.8079, 144.9934  \n",
       "2  -37.8093, 144.9944  \n",
       "3  -37.7969, 144.9969  \n",
       "4  -37.8072, 144.9941  \n",
       "\n",
       "[5 rows x 23 columns]"
      ]
     },
     "execution_count": 6,
     "metadata": {},
     "output_type": "execute_result"
    }
   ],
   "source": [
    "melb_df = melb_data.copy()\n",
    "melb_df.head()"
   ]
  },
  {
   "cell_type": "code",
   "execution_count": 7,
   "metadata": {},
   "outputs": [
    {
     "data": {
      "text/html": [
       "<div>\n",
       "<style scoped>\n",
       "    .dataframe tbody tr th:only-of-type {\n",
       "        vertical-align: middle;\n",
       "    }\n",
       "\n",
       "    .dataframe tbody tr th {\n",
       "        vertical-align: top;\n",
       "    }\n",
       "\n",
       "    .dataframe thead th {\n",
       "        text-align: right;\n",
       "    }\n",
       "</style>\n",
       "<table border=\"1\" class=\"dataframe\">\n",
       "  <thead>\n",
       "    <tr style=\"text-align: right;\">\n",
       "      <th></th>\n",
       "      <th>Suburb</th>\n",
       "      <th>Address</th>\n",
       "      <th>Rooms</th>\n",
       "      <th>Type</th>\n",
       "      <th>Price</th>\n",
       "      <th>Method</th>\n",
       "      <th>SellerG</th>\n",
       "      <th>Date</th>\n",
       "      <th>Distance</th>\n",
       "      <th>Postcode</th>\n",
       "      <th>...</th>\n",
       "      <th>Bathroom</th>\n",
       "      <th>Car</th>\n",
       "      <th>Landsize</th>\n",
       "      <th>BuildingArea</th>\n",
       "      <th>YearBuilt</th>\n",
       "      <th>CouncilArea</th>\n",
       "      <th>Lattitude</th>\n",
       "      <th>Longtitude</th>\n",
       "      <th>Regionname</th>\n",
       "      <th>Propertycount</th>\n",
       "    </tr>\n",
       "  </thead>\n",
       "  <tbody>\n",
       "    <tr>\n",
       "      <th>0</th>\n",
       "      <td>Abbotsford</td>\n",
       "      <td>85 Turner St</td>\n",
       "      <td>2</td>\n",
       "      <td>h</td>\n",
       "      <td>1480000.0</td>\n",
       "      <td>S</td>\n",
       "      <td>Biggin</td>\n",
       "      <td>3/12/2016</td>\n",
       "      <td>2.5</td>\n",
       "      <td>3067</td>\n",
       "      <td>...</td>\n",
       "      <td>1</td>\n",
       "      <td>1</td>\n",
       "      <td>202.0</td>\n",
       "      <td>126.0</td>\n",
       "      <td>1970</td>\n",
       "      <td>Yarra</td>\n",
       "      <td>-37.7996</td>\n",
       "      <td>144.9984</td>\n",
       "      <td>Northern Metropolitan</td>\n",
       "      <td>4019</td>\n",
       "    </tr>\n",
       "    <tr>\n",
       "      <th>1</th>\n",
       "      <td>Abbotsford</td>\n",
       "      <td>25 Bloomburg St</td>\n",
       "      <td>2</td>\n",
       "      <td>h</td>\n",
       "      <td>1035000.0</td>\n",
       "      <td>S</td>\n",
       "      <td>Biggin</td>\n",
       "      <td>4/02/2016</td>\n",
       "      <td>2.5</td>\n",
       "      <td>3067</td>\n",
       "      <td>...</td>\n",
       "      <td>1</td>\n",
       "      <td>0</td>\n",
       "      <td>156.0</td>\n",
       "      <td>79.0</td>\n",
       "      <td>1900</td>\n",
       "      <td>Yarra</td>\n",
       "      <td>-37.8079</td>\n",
       "      <td>144.9934</td>\n",
       "      <td>Northern Metropolitan</td>\n",
       "      <td>4019</td>\n",
       "    </tr>\n",
       "    <tr>\n",
       "      <th>2</th>\n",
       "      <td>Abbotsford</td>\n",
       "      <td>5 Charles St</td>\n",
       "      <td>3</td>\n",
       "      <td>h</td>\n",
       "      <td>1465000.0</td>\n",
       "      <td>SP</td>\n",
       "      <td>Biggin</td>\n",
       "      <td>4/03/2017</td>\n",
       "      <td>2.5</td>\n",
       "      <td>3067</td>\n",
       "      <td>...</td>\n",
       "      <td>2</td>\n",
       "      <td>0</td>\n",
       "      <td>134.0</td>\n",
       "      <td>150.0</td>\n",
       "      <td>1900</td>\n",
       "      <td>Yarra</td>\n",
       "      <td>-37.8093</td>\n",
       "      <td>144.9944</td>\n",
       "      <td>Northern Metropolitan</td>\n",
       "      <td>4019</td>\n",
       "    </tr>\n",
       "    <tr>\n",
       "      <th>3</th>\n",
       "      <td>Abbotsford</td>\n",
       "      <td>40 Federation La</td>\n",
       "      <td>3</td>\n",
       "      <td>h</td>\n",
       "      <td>850000.0</td>\n",
       "      <td>PI</td>\n",
       "      <td>Biggin</td>\n",
       "      <td>4/03/2017</td>\n",
       "      <td>2.5</td>\n",
       "      <td>3067</td>\n",
       "      <td>...</td>\n",
       "      <td>2</td>\n",
       "      <td>1</td>\n",
       "      <td>94.0</td>\n",
       "      <td>126.0</td>\n",
       "      <td>1970</td>\n",
       "      <td>Yarra</td>\n",
       "      <td>-37.7969</td>\n",
       "      <td>144.9969</td>\n",
       "      <td>Northern Metropolitan</td>\n",
       "      <td>4019</td>\n",
       "    </tr>\n",
       "    <tr>\n",
       "      <th>4</th>\n",
       "      <td>Abbotsford</td>\n",
       "      <td>55a Park St</td>\n",
       "      <td>4</td>\n",
       "      <td>h</td>\n",
       "      <td>1600000.0</td>\n",
       "      <td>VB</td>\n",
       "      <td>Nelson</td>\n",
       "      <td>4/06/2016</td>\n",
       "      <td>2.5</td>\n",
       "      <td>3067</td>\n",
       "      <td>...</td>\n",
       "      <td>1</td>\n",
       "      <td>2</td>\n",
       "      <td>120.0</td>\n",
       "      <td>142.0</td>\n",
       "      <td>2014</td>\n",
       "      <td>Yarra</td>\n",
       "      <td>-37.8072</td>\n",
       "      <td>144.9941</td>\n",
       "      <td>Northern Metropolitan</td>\n",
       "      <td>4019</td>\n",
       "    </tr>\n",
       "  </tbody>\n",
       "</table>\n",
       "<p>5 rows × 21 columns</p>\n",
       "</div>"
      ],
      "text/plain": [
       "       Suburb           Address  Rooms Type      Price Method SellerG  \\\n",
       "0  Abbotsford      85 Turner St      2    h  1480000.0      S  Biggin   \n",
       "1  Abbotsford   25 Bloomburg St      2    h  1035000.0      S  Biggin   \n",
       "2  Abbotsford      5 Charles St      3    h  1465000.0     SP  Biggin   \n",
       "3  Abbotsford  40 Federation La      3    h   850000.0     PI  Biggin   \n",
       "4  Abbotsford       55a Park St      4    h  1600000.0     VB  Nelson   \n",
       "\n",
       "        Date  Distance  Postcode  ...  Bathroom  Car  Landsize  BuildingArea  \\\n",
       "0  3/12/2016       2.5      3067  ...         1    1     202.0         126.0   \n",
       "1  4/02/2016       2.5      3067  ...         1    0     156.0          79.0   \n",
       "2  4/03/2017       2.5      3067  ...         2    0     134.0         150.0   \n",
       "3  4/03/2017       2.5      3067  ...         2    1      94.0         126.0   \n",
       "4  4/06/2016       2.5      3067  ...         1    2     120.0         142.0   \n",
       "\n",
       "   YearBuilt  CouncilArea Lattitude  Longtitude             Regionname  \\\n",
       "0       1970        Yarra  -37.7996    144.9984  Northern Metropolitan   \n",
       "1       1900        Yarra  -37.8079    144.9934  Northern Metropolitan   \n",
       "2       1900        Yarra  -37.8093    144.9944  Northern Metropolitan   \n",
       "3       1970        Yarra  -37.7969    144.9969  Northern Metropolitan   \n",
       "4       2014        Yarra  -37.8072    144.9941  Northern Metropolitan   \n",
       "\n",
       "  Propertycount  \n",
       "0          4019  \n",
       "1          4019  \n",
       "2          4019  \n",
       "3          4019  \n",
       "4          4019  \n",
       "\n",
       "[5 rows x 21 columns]"
      ]
     },
     "execution_count": 7,
     "metadata": {},
     "output_type": "execute_result"
    }
   ],
   "source": [
    "melb_df = melb_df.drop(['index', 'Coordinates'], axis=1)\n",
    "melb_df.head()"
   ]
  },
  {
   "cell_type": "code",
   "execution_count": 8,
   "metadata": {},
   "outputs": [
    {
     "data": {
      "text/plain": [
       "0         5\n",
       "1         5\n",
       "2         8\n",
       "3         8\n",
       "4         8\n",
       "         ..\n",
       "13575    10\n",
       "13576     8\n",
       "13577     8\n",
       "13578     9\n",
       "13579     9\n",
       "Length: 13580, dtype: int64"
      ]
     },
     "metadata": {},
     "output_type": "display_data"
    }
   ],
   "source": [
    "total_rooms = melb_df['Rooms'] + melb_df['Bedroom'] + melb_df['Bathroom']\n",
    "display(total_rooms)"
   ]
  },
  {
   "cell_type": "code",
   "execution_count": 9,
   "metadata": {},
   "outputs": [
    {
     "data": {
      "text/plain": [
       "0        25.200000\n",
       "1        15.800000\n",
       "2        18.750000\n",
       "3        15.750000\n",
       "4        17.750000\n",
       "           ...    \n",
       "13575    12.600000\n",
       "13576    16.625000\n",
       "13577    15.750000\n",
       "13578    17.444444\n",
       "13579    12.444444\n",
       "Name: MeanRoomsArea, Length: 13580, dtype: float64"
      ]
     },
     "metadata": {},
     "output_type": "display_data"
    }
   ],
   "source": [
    "melb_df['MeanRoomsArea'] = melb_df['BuildingArea'] / total_rooms\n",
    "display(melb_df['MeanRoomsArea'])"
   ]
  },
  {
   "cell_type": "code",
   "execution_count": 10,
   "metadata": {},
   "outputs": [
    {
     "data": {
      "text/plain": [
       "0       -0.231707\n",
       "1       -0.327660\n",
       "2        0.056338\n",
       "3        0.145455\n",
       "4        0.083969\n",
       "           ...   \n",
       "13575   -0.676093\n",
       "13576   -0.429185\n",
       "13577   -0.551601\n",
       "13578   -0.693060\n",
       "13579   -0.527426\n",
       "Name: AreaRatio, Length: 13580, dtype: float64"
      ]
     },
     "metadata": {},
     "output_type": "display_data"
    }
   ],
   "source": [
    "diff_area = melb_df['BuildingArea'] - melb_df['Landsize']\n",
    "sum_area = melb_df['BuildingArea'] + melb_df['Landsize']\n",
    "melb_df['AreaRatio'] = diff_area/sum_area\n",
    "display(melb_df['AreaRatio'])"
   ]
  },
  {
   "cell_type": "code",
   "execution_count": 11,
   "metadata": {},
   "outputs": [
    {
     "data": {
      "text/plain": [
       "0         3/12/2016\n",
       "1         4/02/2016\n",
       "2         4/03/2017\n",
       "3         4/03/2017\n",
       "4         4/06/2016\n",
       "            ...    \n",
       "13575    26/08/2017\n",
       "13576    26/08/2017\n",
       "13577    26/08/2017\n",
       "13578    26/08/2017\n",
       "13579    26/08/2017\n",
       "Name: Date, Length: 13580, dtype: object"
      ]
     },
     "metadata": {},
     "output_type": "display_data"
    }
   ],
   "source": [
    "display(melb_df['Date'])"
   ]
  },
  {
   "cell_type": "code",
   "execution_count": 12,
   "metadata": {},
   "outputs": [
    {
     "data": {
      "text/plain": [
       "0       2016-12-03\n",
       "1       2016-02-04\n",
       "2       2017-03-04\n",
       "3       2017-03-04\n",
       "4       2016-06-04\n",
       "           ...    \n",
       "13575   2017-08-26\n",
       "13576   2017-08-26\n",
       "13577   2017-08-26\n",
       "13578   2017-08-26\n",
       "13579   2017-08-26\n",
       "Name: Date, Length: 13580, dtype: datetime64[ns]"
      ]
     },
     "metadata": {},
     "output_type": "display_data"
    }
   ],
   "source": [
    "melb_df['Date'] = pd.to_datetime(melb_df['Date'], dayfirst=True)\n",
    "display(melb_df['Date'])"
   ]
  },
  {
   "cell_type": "code",
   "execution_count": 13,
   "metadata": {},
   "outputs": [
    {
     "name": "stdout",
     "output_type": "stream",
     "text": [
      "0        2016\n",
      "1        2016\n",
      "2        2017\n",
      "3        2017\n",
      "4        2016\n",
      "         ... \n",
      "13575    2017\n",
      "13576    2017\n",
      "13577    2017\n",
      "13578    2017\n",
      "13579    2017\n",
      "Name: Date, Length: 13580, dtype: int32\n",
      "Min year sold: 2016\n",
      "Max year sold: 2017\n",
      "Mode year sold: 2017\n"
     ]
    }
   ],
   "source": [
    "years_sold = melb_df['Date'].dt.year\n",
    "print(years_sold)\n",
    "print('Min year sold:', years_sold.min())\n",
    "print('Max year sold:', years_sold.max())\n",
    "print('Mode year sold:', years_sold.mode()[0])"
   ]
  },
  {
   "cell_type": "code",
   "execution_count": 14,
   "metadata": {},
   "outputs": [
    {
     "data": {
      "text/plain": [
       "MonthSale\n",
       "5     0.149411\n",
       "7     0.145950\n",
       "9     0.135862\n",
       "6     0.134757\n",
       "8     0.114138\n",
       "11    0.082032\n",
       "4     0.069882\n",
       "3     0.049926\n",
       "12    0.044698\n",
       "10    0.040574\n",
       "2     0.032622\n",
       "1     0.000147\n",
       "Name: proportion, dtype: float64"
      ]
     },
     "execution_count": 14,
     "metadata": {},
     "output_type": "execute_result"
    }
   ],
   "source": [
    "melb_df['MonthSale'] = melb_df['Date'].dt.month\n",
    "melb_df['MonthSale'].value_counts(normalize=True)"
   ]
  },
  {
   "cell_type": "code",
   "execution_count": 15,
   "metadata": {},
   "outputs": [
    {
     "data": {
      "text/plain": [
       "0       337 days\n",
       "1        34 days\n",
       "2       428 days\n",
       "3       428 days\n",
       "4       155 days\n",
       "          ...   \n",
       "13575   603 days\n",
       "13576   603 days\n",
       "13577   603 days\n",
       "13578   603 days\n",
       "13579   603 days\n",
       "Name: Date, Length: 13580, dtype: timedelta64[ns]"
      ]
     },
     "metadata": {},
     "output_type": "display_data"
    }
   ],
   "source": [
    "delta_days = melb_df['Date'] - pd.to_datetime('2016-01-01') \n",
    "display(delta_days)"
   ]
  },
  {
   "cell_type": "code",
   "execution_count": 16,
   "metadata": {},
   "outputs": [
    {
     "data": {
      "text/plain": [
       "0        337\n",
       "1         34\n",
       "2        428\n",
       "3        428\n",
       "4        155\n",
       "        ... \n",
       "13575    603\n",
       "13576    603\n",
       "13577    603\n",
       "13578    603\n",
       "13579    603\n",
       "Name: Date, Length: 13580, dtype: int64"
      ]
     },
     "metadata": {},
     "output_type": "display_data"
    }
   ],
   "source": [
    "display(delta_days.dt.days)"
   ]
  },
  {
   "cell_type": "code",
   "execution_count": 17,
   "metadata": {},
   "outputs": [
    {
     "data": {
      "text/plain": [
       "0         46\n",
       "1        116\n",
       "2        117\n",
       "3         47\n",
       "4          2\n",
       "        ... \n",
       "13575     36\n",
       "13576     22\n",
       "13577     20\n",
       "13578     97\n",
       "13579     97\n",
       "Name: AgeBuilding, Length: 13580, dtype: int64"
      ]
     },
     "metadata": {},
     "output_type": "display_data"
    }
   ],
   "source": [
    "melb_df['AgeBuilding'] = melb_df['Date'].dt.year - melb_df['YearBuilt']\n",
    "display(melb_df['AgeBuilding'])"
   ]
  },
  {
   "cell_type": "code",
   "execution_count": 18,
   "metadata": {},
   "outputs": [],
   "source": [
    "melb_df = melb_df.drop('YearBuilt', axis=1)"
   ]
  },
  {
   "cell_type": "code",
   "execution_count": 19,
   "metadata": {},
   "outputs": [
    {
     "data": {
      "text/plain": [
       "0        5\n",
       "1        3\n",
       "2        5\n",
       "3        5\n",
       "4        5\n",
       "        ..\n",
       "13575    5\n",
       "13576    5\n",
       "13577    5\n",
       "13578    5\n",
       "13579    5\n",
       "Name: WeekdaySale, Length: 13580, dtype: int32"
      ]
     },
     "metadata": {},
     "output_type": "display_data"
    }
   ],
   "source": [
    "melb_df['WeekdaySale'] = melb_df['Date'].dt.dayofweek\n",
    "display(melb_df['WeekdaySale'])"
   ]
  },
  {
   "cell_type": "code",
   "execution_count": 20,
   "metadata": {},
   "outputs": [
    {
     "data": {
      "text/plain": [
       "12822"
      ]
     },
     "metadata": {},
     "output_type": "display_data"
    }
   ],
   "source": [
    "weekend_count = melb_df[(melb_df['WeekdaySale'] == 6) | (melb_df['WeekdaySale'] == 5)].shape[0]\n",
    "display(weekend_count)"
   ]
  },
  {
   "cell_type": "code",
   "execution_count": 21,
   "metadata": {},
   "outputs": [
    {
     "name": "stdout",
     "output_type": "stream",
     "text": [
      "13378\n",
      "2/119 Railway St N\n",
      "9/400 Dandenong Rd\n",
      "172 Danks St\n"
     ]
    }
   ],
   "source": [
    "print(melb_df['Address'].nunique())\n",
    "print(melb_df['Address'].loc[177])\n",
    "print(melb_df['Address'].loc[1812])\n",
    "print(melb_df['Address'].loc[9001])\n",
    "\n",
    "# На вход данной функции поступает строка с адресом.\n",
    "def get_street_type(address):\n",
    "# Создаём список географических пометок exclude_list.\n",
    "    exclude_list = ['N', 'S', 'W', 'E']\n",
    "# Метод split() разбивает строку на слова по пробелу.\n",
    "# В результате получаем список слов в строке и заносим его в переменную address_list.\n",
    "    address_list = address.split(' ')\n",
    "# Обрезаем список, оставляя в нём только последний элемент,\n",
    "# потенциальный подтип улицы, и заносим в переменную street_type.\n",
    "    street_type = address_list[-1]\n",
    "# Делаем проверку на то, что полученный подтип является географической пометкой.\n",
    "# Для этого проверяем его на наличие в списке exclude_list.\n",
    "    if street_type in exclude_list:\n",
    "# Если переменная street_type является географической пометкой,\n",
    "# переопределяем её на второй элемент с конца списка address_list.\n",
    "        street_type = address_list[-2]\n",
    "# Возвращаем переменную street_type, в которой хранится подтип улицы.\n",
    "    return street_type"
   ]
  },
  {
   "cell_type": "code",
   "execution_count": 22,
   "metadata": {},
   "outputs": [
    {
     "data": {
      "text/plain": [
       "0        St\n",
       "1        St\n",
       "2        St\n",
       "3        La\n",
       "4        St\n",
       "         ..\n",
       "13575    Cr\n",
       "13576    Dr\n",
       "13577    St\n",
       "13578    St\n",
       "13579    St\n",
       "Name: Address, Length: 13580, dtype: object"
      ]
     },
     "metadata": {},
     "output_type": "display_data"
    },
    {
     "name": "stdout",
     "output_type": "stream",
     "text": [
      "56\n"
     ]
    }
   ],
   "source": [
    "street_types = melb_df['Address'].apply(get_street_type)\n",
    "display(street_types)\n",
    "print(street_types.nunique())"
   ]
  },
  {
   "cell_type": "code",
   "execution_count": 23,
   "metadata": {},
   "outputs": [
    {
     "data": {
      "text/plain": [
       "Address\n",
       "St           8012\n",
       "Rd           2825\n",
       "Ct            612\n",
       "Dr            447\n",
       "Av            321\n",
       "Gr            311\n",
       "Pde           211\n",
       "Pl            169\n",
       "Cr            152\n",
       "Cl            100\n",
       "La             67\n",
       "Bvd            53\n",
       "Tce            47\n",
       "Wy             40\n",
       "Avenue         40\n",
       "Cct            25\n",
       "Hwy            24\n",
       "Parade         15\n",
       "Boulevard      13\n",
       "Sq             11\n",
       "Crescent        9\n",
       "Cir             7\n",
       "Strand          7\n",
       "Esplanade       6\n",
       "Grove           5\n",
       "Gdns            4\n",
       "Grn             4\n",
       "Fairway         4\n",
       "Mews            4\n",
       "Crossway        3\n",
       "Righi           3\n",
       "Victoria        2\n",
       "Ridge           2\n",
       "Crofts          2\n",
       "Esp             2\n",
       "Glade           1\n",
       "Gra             1\n",
       "Ave             1\n",
       "Woodland        1\n",
       "Outlook         1\n",
       "Hts             1\n",
       "Highway         1\n",
       "Athol           1\n",
       "Summit          1\n",
       "Grand           1\n",
       "Res             1\n",
       "Nook            1\n",
       "Eyrie           1\n",
       "Dell            1\n",
       "East            1\n",
       "Loop            1\n",
       "Grange          1\n",
       "Terrace         1\n",
       "Cove            1\n",
       "Qy              1\n",
       "Corso           1\n",
       "Name: count, dtype: int64"
      ]
     },
     "metadata": {},
     "output_type": "display_data"
    }
   ],
   "source": [
    "display(street_types.value_counts())"
   ]
  },
  {
   "cell_type": "code",
   "execution_count": 26,
   "metadata": {},
   "outputs": [
    {
     "name": "stdout",
     "output_type": "stream",
     "text": [
      "Index(['St', 'Rd', 'Ct', 'Dr', 'Av', 'Gr', 'Pde', 'Pl', 'Cr', 'Cl'], dtype='object', name='Address')\n"
     ]
    }
   ],
   "source": [
    "#Для этого к результату метода value_counts применим метод nlargest(), который возвращает n наибольших значений из Series. Зададим n=10, \n",
    "# т. е. мы хотим отобрать десять наиболее популярных подтипов. Извлечём их названия с помощью атрибута index, а результат занесём в переменную popular_stypes:\n",
    "popular_stypes = street_types.value_counts().nlargest(10).index\n",
    "print(popular_stypes)"
   ]
  },
  {
   "cell_type": "code",
   "execution_count": 29,
   "metadata": {},
   "outputs": [
    {
     "data": {
      "text/plain": [
       "0           St\n",
       "1           St\n",
       "2           St\n",
       "3        other\n",
       "4           St\n",
       "         ...  \n",
       "13575       Cr\n",
       "13576       Dr\n",
       "13577       St\n",
       "13578       St\n",
       "13579       St\n",
       "Name: StreetType, Length: 13580, dtype: object"
      ]
     },
     "metadata": {},
     "output_type": "display_data"
    },
    {
     "name": "stdout",
     "output_type": "stream",
     "text": [
      "11\n"
     ]
    }
   ],
   "source": [
    "#Теперь, когда у нас есть список наиболее популярных подтипов улиц, введём lambda-функцию, которая будет проверять, есть ли строка x в этом перечне, и, \n",
    "# если это так, lambda-функция будет возвращать x, в противном случае она будет возвращать строку 'other'. \n",
    "# Наконец, применим такую функцию к Series street_types, полученной ранее, а результат определим в новый столбец таблицы StreetType:\n",
    "melb_df['StreetType'] = street_types.apply(lambda x: x if x in popular_stypes else 'other')\n",
    "display(melb_df['StreetType'])\n",
    "print(melb_df['StreetType'].nunique())\n",
    "melb_df = melb_df.drop('Address', axis=1)"
   ]
  },
  {
   "cell_type": "code",
   "execution_count": 40,
   "metadata": {},
   "outputs": [
    {
     "data": {
      "text/plain": [
       "0        1\n",
       "1        0\n",
       "2        1\n",
       "3        1\n",
       "4        1\n",
       "        ..\n",
       "13575    1\n",
       "13576    1\n",
       "13577    1\n",
       "13578    1\n",
       "13579    1\n",
       "Name: Weekend, Length: 13580, dtype: int64"
      ]
     },
     "metadata": {},
     "output_type": "display_data"
    },
    {
     "data": {
      "text/plain": [
       "1076726.5496215664"
      ]
     },
     "metadata": {},
     "output_type": "display_data"
    }
   ],
   "source": [
    "def get_weekend(weekday):\n",
    "    if weekday == (5 or 6):\n",
    "        return 1\n",
    "    else:\n",
    "        return 0\n",
    "\n",
    "melb_df['Weekend'] = melb_df['WeekdaySale'].apply(get_weekend)\n",
    "display(melb_df['Weekend'])\n",
    "\n",
    "display(melb_df[melb_df['Weekend'] == 1]['Price'].mean())"
   ]
  },
  {
   "cell_type": "code",
   "execution_count": 49,
   "metadata": {},
   "outputs": [
    {
     "data": {
      "text/plain": [
       "Index(['Nelson', 'Jellis', 'other', 'hockingstuart', 'Barry', 'Ray',\n",
       "       'Marshall', 'Buxton', 'Biggin', 'Brad', 'Woodards', 'Fletchers', 'Jas',\n",
       "       'Greg', 'McGrath', 'Sweeney', 'Noel', 'Miles', 'RT', 'Gary',\n",
       "       'Harcourts', 'Hodges', 'YPA', 'Stockdale', 'Village', 'Kay', 'Raine',\n",
       "       'Williams', 'Love', 'Douglas', 'Chisholm', 'RW', 'Rendina', 'HAR',\n",
       "       'O'Brien', 'C21', 'Collins', 'Cayzer', 'Purplebricks', 'Eview',\n",
       "       'Philip', 'Buckingham', 'Bells', 'Thomson', 'Alexkarbon', 'Nick',\n",
       "       'Burnham', 'McDonald', 'Moonee'],\n",
       "      dtype='object', name='SellerG')"
      ]
     },
     "metadata": {},
     "output_type": "display_data"
    },
    {
     "data": {
      "text/plain": [
       "0          Biggin\n",
       "1          Biggin\n",
       "2          Biggin\n",
       "3          Biggin\n",
       "4          Nelson\n",
       "           ...   \n",
       "13575       Barry\n",
       "13576    Williams\n",
       "13577       Raine\n",
       "13578     Sweeney\n",
       "13579     Village\n",
       "Name: SellerG, Length: 13580, dtype: object"
      ]
     },
     "metadata": {},
     "output_type": "display_data"
    },
    {
     "data": {
      "text/plain": [
       "170000.0"
      ]
     },
     "metadata": {},
     "output_type": "display_data"
    },
    {
     "data": {
      "text/plain": [
       "131000.0"
      ]
     },
     "metadata": {},
     "output_type": "display_data"
    },
    {
     "data": {
      "text/plain": [
       "1.3"
      ]
     },
     "metadata": {},
     "output_type": "display_data"
    }
   ],
   "source": [
    "popular_seller = melb_df['SellerG'].value_counts().nlargest(49).index\n",
    "display(popular_seller)\n",
    "\n",
    "melb_df['SellerG'] = melb_df['SellerG'].apply(lambda x: x if x in popular_seller else 'other')\n",
    "display(melb_df['SellerG'])\n",
    "\n",
    "min_Nelson = melb_df[melb_df['SellerG'] == 'Nelson']['Price'].min()\n",
    "min_other = melb_df[melb_df['SellerG'] == 'other']['Price'].min()\n",
    "delta_min = round(min_Nelson/min_other, 1)\n",
    "display(min_Nelson, min_other, delta_min)"
   ]
  }
 ],
 "metadata": {
  "kernelspec": {
   "display_name": "Python 3",
   "language": "python",
   "name": "python3"
  },
  "language_info": {
   "codemirror_mode": {
    "name": "ipython",
    "version": 3
   },
   "file_extension": ".py",
   "mimetype": "text/x-python",
   "name": "python",
   "nbconvert_exporter": "python",
   "pygments_lexer": "ipython3",
   "version": "3.12.3"
  }
 },
 "nbformat": 4,
 "nbformat_minor": 2
}
